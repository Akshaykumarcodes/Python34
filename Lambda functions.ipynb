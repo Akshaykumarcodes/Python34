{
 "cells": [
  {
   "cell_type": "code",
   "execution_count": 12,
   "id": "ed2d3dcf",
   "metadata": {},
   "outputs": [
    {
     "name": "stdout",
     "output_type": "stream",
     "text": [
      "Enter the number::85\n"
     ]
    },
    {
     "data": {
      "text/plain": [
       "100"
      ]
     },
     "execution_count": 12,
     "metadata": {},
     "output_type": "execute_result"
    }
   ],
   "source": [
    "n=int(input(\"Enter the number::\"))\n",
    "(lambda x: x+15)(n)"
   ]
  },
  {
   "cell_type": "code",
   "execution_count": 13,
   "id": "3ea906be",
   "metadata": {},
   "outputs": [
    {
     "data": {
      "text/plain": [
       "18"
      ]
     },
     "execution_count": 13,
     "metadata": {},
     "output_type": "execute_result"
    }
   ],
   "source": [
    "(lambda x,y:x*y)(6,3)"
   ]
  },
  {
   "cell_type": "code",
   "execution_count": 14,
   "id": "01a7fb72",
   "metadata": {},
   "outputs": [],
   "source": [
    "L1=[('science',85),('english',78),('physics',89)]"
   ]
  },
  {
   "cell_type": "code",
   "execution_count": 20,
   "id": "ee9a57a0",
   "metadata": {},
   "outputs": [],
   "source": [
    "L1.sort(key=lambda x:x[1])"
   ]
  },
  {
   "cell_type": "code",
   "execution_count": 21,
   "id": "a0cb93b4",
   "metadata": {},
   "outputs": [
    {
     "data": {
      "text/plain": [
       "[('english', 78), ('science', 85), ('physics', 89)]"
      ]
     },
     "execution_count": 21,
     "metadata": {},
     "output_type": "execute_result"
    }
   ],
   "source": [
    "L1"
   ]
  },
  {
   "cell_type": "code",
   "execution_count": 22,
   "id": "d7c32f6f",
   "metadata": {},
   "outputs": [],
   "source": [
    "L3=[{'make': 'Nokia', 'model': 216, 'color': 'Black'}, {'make': 'Mi Max', 'model': '2', 'color': 'Gold'}, {'make': 'Samsung', 'model': 7, 'color': 'Blue'}]"
   ]
  },
  {
   "cell_type": "code",
   "execution_count": 23,
   "id": "3600af59",
   "metadata": {},
   "outputs": [
    {
     "data": {
      "text/plain": [
       "[{'make': 'Nokia', 'model': 216, 'color': 'Black'},\n",
       " {'make': 'Mi Max', 'model': '2', 'color': 'Gold'},\n",
       " {'make': 'Samsung', 'model': 7, 'color': 'Blue'}]"
      ]
     },
     "execution_count": 23,
     "metadata": {},
     "output_type": "execute_result"
    }
   ],
   "source": [
    "L3"
   ]
  },
  {
   "cell_type": "code",
   "execution_count": 30,
   "id": "cbb7b50f",
   "metadata": {},
   "outputs": [],
   "source": [
    "L3.sort(key=lambda x:list(x.values())[2])"
   ]
  },
  {
   "cell_type": "code",
   "execution_count": 32,
   "id": "c050e8e4",
   "metadata": {},
   "outputs": [],
   "source": [
    "L3.sort(key=lambda x:x['color'])"
   ]
  },
  {
   "cell_type": "code",
   "execution_count": 33,
   "id": "20ef5049",
   "metadata": {},
   "outputs": [
    {
     "data": {
      "text/plain": [
       "[{'make': 'Nokia', 'model': 216, 'color': 'Black'},\n",
       " {'make': 'Samsung', 'model': 7, 'color': 'Blue'},\n",
       " {'make': 'Mi Max', 'model': '2', 'color': 'Gold'}]"
      ]
     },
     "execution_count": 33,
     "metadata": {},
     "output_type": "execute_result"
    }
   ],
   "source": [
    "L3"
   ]
  },
  {
   "cell_type": "code",
   "execution_count": null,
   "id": "993657bb",
   "metadata": {},
   "outputs": [],
   "source": []
  },
  {
   "cell_type": "code",
   "execution_count": 31,
   "id": "62d8d3ac",
   "metadata": {},
   "outputs": [
    {
     "data": {
      "text/plain": [
       "[{'make': 'Nokia', 'model': 216, 'color': 'Black'},\n",
       " {'make': 'Samsung', 'model': 7, 'color': 'Blue'},\n",
       " {'make': 'Mi Max', 'model': '2', 'color': 'Gold'}]"
      ]
     },
     "execution_count": 31,
     "metadata": {},
     "output_type": "execute_result"
    }
   ],
   "source": [
    "L3"
   ]
  },
  {
   "cell_type": "code",
   "execution_count": null,
   "id": "090379b6",
   "metadata": {},
   "outputs": [],
   "source": []
  },
  {
   "cell_type": "code",
   "execution_count": 34,
   "id": "510d3d9c",
   "metadata": {},
   "outputs": [],
   "source": [
    "L4=[1,2,3,4,5,6,7,8,9,10]"
   ]
  },
  {
   "cell_type": "code",
   "execution_count": 42,
   "id": "bcddf107",
   "metadata": {},
   "outputs": [],
   "source": [
    "L5=list(filter(lambda x:x%2==0,L4))"
   ]
  },
  {
   "cell_type": "code",
   "execution_count": 43,
   "id": "a56e99ad",
   "metadata": {},
   "outputs": [
    {
     "data": {
      "text/plain": [
       "[2, 4, 6, 8, 10]"
      ]
     },
     "execution_count": 43,
     "metadata": {},
     "output_type": "execute_result"
    }
   ],
   "source": [
    "L5"
   ]
  },
  {
   "cell_type": "code",
   "execution_count": null,
   "id": "aabab501",
   "metadata": {},
   "outputs": [],
   "source": []
  },
  {
   "cell_type": "code",
   "execution_count": 40,
   "id": "370b9279",
   "metadata": {},
   "outputs": [],
   "source": [
    "L5=[i for i in L4 if i%2!=0]"
   ]
  },
  {
   "cell_type": "code",
   "execution_count": 41,
   "id": "5a2170e9",
   "metadata": {},
   "outputs": [
    {
     "data": {
      "text/plain": [
       "[1, 3, 5, 7, 9]"
      ]
     },
     "execution_count": 41,
     "metadata": {},
     "output_type": "execute_result"
    }
   ],
   "source": [
    "L5"
   ]
  },
  {
   "cell_type": "code",
   "execution_count": null,
   "id": "b4f33463",
   "metadata": {},
   "outputs": [],
   "source": []
  },
  {
   "cell_type": "code",
   "execution_count": 47,
   "id": "53fc9307",
   "metadata": {},
   "outputs": [],
   "source": [
    "L6=list(map(lambda x: x**3,L4))"
   ]
  },
  {
   "cell_type": "code",
   "execution_count": 48,
   "id": "7771ca4b",
   "metadata": {},
   "outputs": [
    {
     "data": {
      "text/plain": [
       "[1, 8, 27, 64, 125, 216, 343, 512, 729, 1000]"
      ]
     },
     "execution_count": 48,
     "metadata": {},
     "output_type": "execute_result"
    }
   ],
   "source": [
    "L6"
   ]
  },
  {
   "cell_type": "code",
   "execution_count": null,
   "id": "7f681acb",
   "metadata": {},
   "outputs": [],
   "source": []
  },
  {
   "cell_type": "code",
   "execution_count": 49,
   "id": "927dd2ea",
   "metadata": {},
   "outputs": [],
   "source": [
    "S1='python'"
   ]
  },
  {
   "cell_type": "code",
   "execution_count": 63,
   "id": "bc46a0c8",
   "metadata": {},
   "outputs": [],
   "source": [
    "s56 =(lambda x: True if x.startswith('p') else False)"
   ]
  },
  {
   "cell_type": "code",
   "execution_count": 65,
   "id": "c933c0b8",
   "metadata": {},
   "outputs": [
    {
     "data": {
      "text/plain": [
       "False"
      ]
     },
     "execution_count": 65,
     "metadata": {},
     "output_type": "execute_result"
    }
   ],
   "source": [
    "s56('Hadoop')"
   ]
  },
  {
   "cell_type": "code",
   "execution_count": null,
   "id": "0a4fc73e",
   "metadata": {},
   "outputs": [],
   "source": []
  },
  {
   "cell_type": "code",
   "execution_count": 83,
   "id": "c532803a",
   "metadata": {},
   "outputs": [
    {
     "name": "stdout",
     "output_type": "stream",
     "text": [
      "2022-09-14 23:57:38.218172\n",
      "2022-09-14\n",
      "2022\n",
      "09\n",
      "14\n",
      "23:57:38.218172\n"
     ]
    }
   ],
   "source": [
    "import datetime\n",
    "now = datetime.datetime.now()\n",
    "won=str(now)\n",
    "print(won)\n",
    "L8=won.split(' ')\n",
    "date=str(L8[0])\n",
    "print(date)\n",
    "L9=date.split('-')\n",
    "d1={'Year':L9[0],'Day':L9[1],'Month':L9[2], 'time':L8[1]}\n",
    "print(d1['Year'])\n",
    "print(d1['Day'])\n",
    "print(d1['Month'])\n",
    "print(d1['time'])"
   ]
  },
  {
   "cell_type": "code",
   "execution_count": 84,
   "id": "ed9cd30a",
   "metadata": {},
   "outputs": [
    {
     "data": {
      "text/plain": [
       "datetime.datetime"
      ]
     },
     "execution_count": 84,
     "metadata": {},
     "output_type": "execute_result"
    }
   ],
   "source": [
    "type(now)"
   ]
  },
  {
   "cell_type": "code",
   "execution_count": null,
   "id": "e2120896",
   "metadata": {},
   "outputs": [],
   "source": []
  },
  {
   "cell_type": "code",
   "execution_count": 95,
   "id": "b55662f7",
   "metadata": {},
   "outputs": [],
   "source": [
    "rit = (lambda x:x.isalpha())"
   ]
  },
  {
   "cell_type": "code",
   "execution_count": 97,
   "id": "b4dcd140",
   "metadata": {},
   "outputs": [
    {
     "data": {
      "text/plain": [
       "False"
      ]
     },
     "execution_count": 97,
     "metadata": {},
     "output_type": "execute_result"
    }
   ],
   "source": [
    "rit('766gfgh7')"
   ]
  },
  {
   "cell_type": "code",
   "execution_count": null,
   "id": "ee4c0d11",
   "metadata": {},
   "outputs": [],
   "source": []
  },
  {
   "cell_type": "code",
   "execution_count": null,
   "id": "69c68e54",
   "metadata": {},
   "outputs": [],
   "source": []
  },
  {
   "cell_type": "code",
   "execution_count": null,
   "id": "6ec997ef",
   "metadata": {},
   "outputs": [],
   "source": []
  },
  {
   "cell_type": "code",
   "execution_count": null,
   "id": "d4103aef",
   "metadata": {},
   "outputs": [],
   "source": []
  },
  {
   "cell_type": "code",
   "execution_count": null,
   "id": "d2dd5d8f",
   "metadata": {},
   "outputs": [],
   "source": []
  }
 ],
 "metadata": {
  "kernelspec": {
   "display_name": "Python 3 (ipykernel)",
   "language": "python",
   "name": "python3"
  },
  "language_info": {
   "codemirror_mode": {
    "name": "ipython",
    "version": 3
   },
   "file_extension": ".py",
   "mimetype": "text/x-python",
   "name": "python",
   "nbconvert_exporter": "python",
   "pygments_lexer": "ipython3",
   "version": "3.9.12"
  }
 },
 "nbformat": 4,
 "nbformat_minor": 5
}
